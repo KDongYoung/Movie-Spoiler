{
 "cells": [
  {
   "cell_type": "code",
   "execution_count": 1,
   "metadata": {},
   "outputs": [],
   "source": [
    "import csv\n",
    "from konlpy.tag import Kkma\n",
    "from collections import Counter\n",
    "import math\n",
    "\n",
    "kkma = Kkma()\n",
    "\n",
    "f = open(\"불용어 리스트.txt\",'r', encoding='utf8')\n",
    "stop_words = f.read()\n",
    "stop_words = stop_words.split('\\n')\n",
    "\n",
    "# 전처리 함수\n",
    "def preprocessing(text):\n",
    "    text = text.replace('ㅋ','').replace('ㅠ','').replace('ㅜ','') # 'ㅋ', 'ㅠ', 'ㅜ' 제거\n",
    "    \n",
    "    text_pos = kkma.pos(text)\n",
    "    text_morphs = kkma.morphs(text)\n",
    "    \n",
    "    words = []\n",
    "    tags = ['NNG','NNP','NNB','NNM','NP','VV','VA','VXV','VXA','MDT','MDN','MAG','MAC','UN','XR']\n",
    "    \n",
    "    # 사용할 품사 tag에 해당하는 단어 리스트 만들기\n",
    "    for word, tag in text_pos:\n",
    "        if tag in tags:\n",
    "            words.append(word)\n",
    "            \n",
    "    # 불용어 지우기\n",
    "    result = []\n",
    "    for w in words: \n",
    "        if w not in stop_words: \n",
    "            result.append(w)\n",
    "            \n",
    "    return result"
   ]
  },
  {
   "cell_type": "code",
   "execution_count": 2,
   "metadata": {},
   "outputs": [],
   "source": [
    "movie_title={1:\"겟아웃\",2:\"부산행\",3:\"서치\",4:\"해피데스데이\",5:\"곡성\"}\n",
    "for i in range(len(movie_title)):\n",
    "    rtitle = \"%s_최종본.csv\" %(movie_title[i+1])\n",
    "    wtitle = \"%s_tf.csv\" %(movie_title[i+1])\n",
    "\n",
    "    blog = open(rtitle, 'r')\n",
    "    rblog = csv.reader(blog)\n",
    "    next(rblog) # header 넘어가기\n",
    "    \n",
    "    # csv파일의 각 corpus에 접근하여 전처리\n",
    "    total=[]\n",
    "    for line in rblog:\n",
    "        total.extend(preprocessing(line[2])) # 영화 리뷰에 포함되어 있는 전체 단어\n",
    "   \n",
    "    # tf\n",
    "    tf=[]\n",
    "    countWord = Counter(total)\n",
    "    for key in countWord:\n",
    "        tf.append([key, round(1+math.log(countWord[key],2),2)])  \n",
    "    \n",
    "    # tf csv파일 작성\n",
    "    tfcsv = open(wtitle, 'w', newline='')\n",
    "    wr = csv.writer(tfcsv)\n",
    "    wr.writerow([\"word\",\"tf\"])\n",
    "    for i in range(len(tf)):\n",
    "        wr.writerow(tf[i])"
   ]
  }
 ],
 "metadata": {
  "kernelspec": {
   "display_name": "Python 3",
   "language": "python",
   "name": "python3"
  },
  "language_info": {
   "codemirror_mode": {
    "name": "ipython",
    "version": 3
   },
   "file_extension": ".py",
   "mimetype": "text/x-python",
   "name": "python",
   "nbconvert_exporter": "python",
   "pygments_lexer": "ipython3",
   "version": "3.7.1"
  }
 },
 "nbformat": 4,
 "nbformat_minor": 2
}
